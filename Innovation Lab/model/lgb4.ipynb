{
 "cells": [
  {
   "cell_type": "markdown",
   "metadata": {
    "ExecuteTime": {
     "end_time": "2019-08-26T08:15:01.740653Z",
     "start_time": "2019-08-26T08:15:01.734657Z"
    }
   },
   "source": [
    "* 将 'Monarch [no longer operating]'(放入到dev中) 替换为 'LAN Airlines (now LATAM Airlines)' 主要去预测 'WOW air [no longer operating]'\n",
    "* 由lgb3修改而来，只是修改参数"
   ]
  },
  {
   "cell_type": "code",
   "execution_count": 40,
   "metadata": {
    "ExecuteTime": {
     "end_time": "2019-08-26T08:53:36.843459Z",
     "start_time": "2019-08-26T08:53:36.832459Z"
    }
   },
   "outputs": [],
   "source": [
    "import lightgbm as lgb\n",
    "import pandas as pd\n",
    "import numpy as np\n",
    "import gc\n",
    "import gzip\n",
    "import os\n",
    "import warnings\n",
    "import random\n",
    "import graphviz\n",
    "from sklearn.model_selection import KFold\n",
    "from sklearn.metrics import log_loss\n",
    "from bayes_opt import BayesianOptimization\n",
    "from graphviz import Digraph\n",
    "\n",
    "%matplotlib inline"
   ]
  },
  {
   "cell_type": "code",
   "execution_count": 41,
   "metadata": {
    "ExecuteTime": {
     "end_time": "2019-08-26T08:53:38.225762Z",
     "start_time": "2019-08-26T08:53:36.846461Z"
    }
   },
   "outputs": [
    {
     "name": "stdout",
     "output_type": "stream",
     "text": [
      "<class 'pandas.core.frame.DataFrame'>\n",
      "RangeIndex: 21541 entries, 0 to 21540\n",
      "Columns: 176 entries, companyName to entertainment_rp\n",
      "dtypes: float64(167), int64(1), object(8)\n",
      "memory usage: 28.9+ MB\n",
      "None\n"
     ]
    }
   ],
   "source": [
    "df = pd.read_csv(\"./merge_result.csv\")\n",
    "print(df.info())\n",
    "df = df.loc[df['is_defunct'].notnull()]\n",
    "\n",
    "test_company = ['Primera Air [no longer operating]', 'WOW air [no longer operating]', 'LAN Airlines (now LATAM Airlines)', 'Air France', 'Virgin Australia', 'Viva Aerobus', 'Central Mountain Air', 'Juneyao Airlines', 'Ural Airlines', 'Corendon Airlines', 'Jeju Air', 'Royal Air Maroc', 'Vanilla Air', 'Kuwait Airways', 'Philippine Airlines (PAL)', 'TAME Vuela Ecuador', 'Pobeda', 'SmartWings', 'Thomas Cook Airlines Scandinavia', 'Ukraine International Airlines', 'Cayman Airways', 'Croatia Airlines', 'Kulula', 'Beijing Capital Airlines', 'China Eastern Airlines', 'QAZAQ AIR', 'Jetstar Japan',  'Silver Airways', 'Tajik Air', 'Boliviana de Aviacion', 'Mauritania Airlines', 'Myanmar National Airlines', 'AirAsia - Philippines AirAsia', 'Interjet', 'Myanmar Airways International', 'Wamos Air', 'Andes Lineas Aereas', 'Air Panama', 'TUIfly (Germany)', 'Royal Jordanian', 'Lufthansa', 'Norwegian', 'Virgin Atlantic Airways', 'Mann Yadanarpon Airlines', 'Kan Airlines', 'Sudan Airways', 'Viva Air (Colombia)', 'Biman Bangladesh Airlines', 'China Southern Airlines', 'Flynas', 'SriLankan Airlines', 'Sun Country Airlines', 'Nordica', 'AnadoluJet', 'Thai Lion Air', 'Flyadeal', 'Jin Air', 'tigerair australia', 'Air Madagascar', 'Southwest Airlines', 'Nouvel Air Tunise', 'TAROM', 'Wings Air', 'British Airways']\n",
    "test = df[df['companyName'].isin(test_company)]\n",
    "train = df[~df['companyName'].isin(test_company)]\n",
    "y_train = train['is_defunct']\n",
    "X_train = train.drop(columns=['is_defunct'])\n",
    "y_test = test['is_defunct']\n",
    "X_test = test.drop(columns=['is_defunct'])\n",
    "\n",
    "features = list(X_train.columns)\n",
    "del_cols = ['companyName', 'DOW', 'country_code', 'busn_name', 'cust_id_concatenate', 'airline_tagging', 'country', 'max_accident_date']\n",
    "for col in del_cols:\n",
    "    features.remove(col)"
   ]
  },
  {
   "cell_type": "code",
   "execution_count": 42,
   "metadata": {
    "ExecuteTime": {
     "end_time": "2019-08-26T08:53:38.262764Z",
     "start_time": "2019-08-26T08:53:38.238764Z"
    }
   },
   "outputs": [],
   "source": [
    "param = { #修改过的\n",
    "    \"boosting\": \"gbdt\",\n",
    "    'objective':'binary',\n",
    "    'scale_pos_weight': 15,\n",
    "#     'metric': ('auc', 'binary_logloss'),\n",
    "    'metric': 'binary_logloss',\n",
    "    'learning_rate': 0.001,\n",
    "    'num_leaves': 6, # 6\n",
    "    'min_data_in_leaf': 200, #120\n",
    "    'max_depth': 5,                        \n",
    "    \"feature_fraction\": 0.60279441778009675,\n",
    "    \"bagging_freq\": 1,  #int(bagging_freq),   #1\n",
    "    \"bagging_fraction\": 0.94918097174380245 ,\n",
    "    \"bagging_seed\": 11,\n",
    "    \"lambda_l1\": 3.0031581969835157,\n",
    "    \"verbosity\": -1,        \n",
    "}"
   ]
  },
  {
   "cell_type": "code",
   "execution_count": 43,
   "metadata": {
    "ExecuteTime": {
     "end_time": "2019-08-26T09:12:25.523121Z",
     "start_time": "2019-08-26T08:53:38.269765Z"
    },
    "scrolled": true
   },
   "outputs": [
    {
     "name": "stdout",
     "output_type": "stream",
     "text": [
      "fold n°0\n",
      "Training until validation scores don't improve for 200 rounds.\n",
      "[500]\ttraining's binary_logloss: 0.139597\tvalid_1's binary_logloss: 0.1368\n",
      "[1000]\ttraining's binary_logloss: 0.121228\tvalid_1's binary_logloss: 0.119558\n",
      "[1500]\ttraining's binary_logloss: 0.102831\tvalid_1's binary_logloss: 0.10158\n",
      "[2000]\ttraining's binary_logloss: 0.0874277\tvalid_1's binary_logloss: 0.0861178\n",
      "[2500]\ttraining's binary_logloss: 0.0743414\tvalid_1's binary_logloss: 0.0730352\n",
      "[3000]\ttraining's binary_logloss: 0.063355\tvalid_1's binary_logloss: 0.0620091\n",
      "[3500]\ttraining's binary_logloss: 0.0547759\tvalid_1's binary_logloss: 0.0535198\n",
      "[4000]\ttraining's binary_logloss: 0.0478316\tvalid_1's binary_logloss: 0.0466817\n",
      "[4500]\ttraining's binary_logloss: 0.0419948\tvalid_1's binary_logloss: 0.0409792\n",
      "[5000]\ttraining's binary_logloss: 0.0369926\tvalid_1's binary_logloss: 0.0360995\n",
      "[5500]\ttraining's binary_logloss: 0.0327826\tvalid_1's binary_logloss: 0.0320101\n",
      "[6000]\ttraining's binary_logloss: 0.0291563\tvalid_1's binary_logloss: 0.0284963\n",
      "[6500]\ttraining's binary_logloss: 0.0260901\tvalid_1's binary_logloss: 0.0255684\n",
      "[7000]\ttraining's binary_logloss: 0.0235401\tvalid_1's binary_logloss: 0.0231161\n",
      "[7500]\ttraining's binary_logloss: 0.0214678\tvalid_1's binary_logloss: 0.0212085\n",
      "[8000]\ttraining's binary_logloss: 0.019679\tvalid_1's binary_logloss: 0.0195473\n",
      "[8500]\ttraining's binary_logloss: 0.0181432\tvalid_1's binary_logloss: 0.0181043\n",
      "[9000]\ttraining's binary_logloss: 0.0168157\tvalid_1's binary_logloss: 0.0168376\n",
      "[9500]\ttraining's binary_logloss: 0.0156562\tvalid_1's binary_logloss: 0.0157251\n",
      "[10000]\ttraining's binary_logloss: 0.0146638\tvalid_1's binary_logloss: 0.0147801\n",
      "[10500]\ttraining's binary_logloss: 0.013787\tvalid_1's binary_logloss: 0.013932\n",
      "[11000]\ttraining's binary_logloss: 0.0130261\tvalid_1's binary_logloss: 0.0132095\n",
      "[11500]\ttraining's binary_logloss: 0.0123379\tvalid_1's binary_logloss: 0.0125342\n",
      "[12000]\ttraining's binary_logloss: 0.0116968\tvalid_1's binary_logloss: 0.011906\n",
      "[12500]\ttraining's binary_logloss: 0.0111016\tvalid_1's binary_logloss: 0.0113243\n",
      "[13000]\ttraining's binary_logloss: 0.0105636\tvalid_1's binary_logloss: 0.010799\n",
      "[13500]\ttraining's binary_logloss: 0.010071\tvalid_1's binary_logloss: 0.0103094\n",
      "[14000]\ttraining's binary_logloss: 0.00961745\tvalid_1's binary_logloss: 0.00984857\n",
      "[14500]\ttraining's binary_logloss: 0.00918216\tvalid_1's binary_logloss: 0.0094232\n",
      "[15000]\ttraining's binary_logloss: 0.00879503\tvalid_1's binary_logloss: 0.00902929\n",
      "[15500]\ttraining's binary_logloss: 0.00843941\tvalid_1's binary_logloss: 0.00868043\n",
      "[16000]\ttraining's binary_logloss: 0.00811825\tvalid_1's binary_logloss: 0.0083579\n",
      "[16500]\ttraining's binary_logloss: 0.00780963\tvalid_1's binary_logloss: 0.00805737\n",
      "[17000]\ttraining's binary_logloss: 0.00754834\tvalid_1's binary_logloss: 0.00780011\n",
      "[17500]\ttraining's binary_logloss: 0.00731051\tvalid_1's binary_logloss: 0.00756085\n",
      "[18000]\ttraining's binary_logloss: 0.00706901\tvalid_1's binary_logloss: 0.00733166\n",
      "[18500]\ttraining's binary_logloss: 0.00685699\tvalid_1's binary_logloss: 0.00713445\n",
      "[19000]\ttraining's binary_logloss: 0.00666281\tvalid_1's binary_logloss: 0.00695942\n",
      "[19500]\ttraining's binary_logloss: 0.00649604\tvalid_1's binary_logloss: 0.00681145\n",
      "[20000]\ttraining's binary_logloss: 0.00633642\tvalid_1's binary_logloss: 0.0066703\n",
      "Did not meet early stopping. Best iteration is:\n",
      "[20000]\ttraining's binary_logloss: 0.00633642\tvalid_1's binary_logloss: 0.0066703\n",
      "fold n°1\n",
      "Training until validation scores don't improve for 200 rounds.\n",
      "[500]\ttraining's binary_logloss: 0.141281\tvalid_1's binary_logloss: 0.14478\n",
      "[1000]\ttraining's binary_logloss: 0.125032\tvalid_1's binary_logloss: 0.126366\n",
      "[1500]\ttraining's binary_logloss: 0.108062\tvalid_1's binary_logloss: 0.108859\n",
      "[2000]\ttraining's binary_logloss: 0.0912877\tvalid_1's binary_logloss: 0.0921289\n",
      "[2500]\ttraining's binary_logloss: 0.0773571\tvalid_1's binary_logloss: 0.0780189\n",
      "[3000]\ttraining's binary_logloss: 0.0664911\tvalid_1's binary_logloss: 0.0670909\n",
      "[3500]\ttraining's binary_logloss: 0.0575931\tvalid_1's binary_logloss: 0.0582201\n",
      "[4000]\ttraining's binary_logloss: 0.0500819\tvalid_1's binary_logloss: 0.0507919\n",
      "[4500]\ttraining's binary_logloss: 0.0438395\tvalid_1's binary_logloss: 0.0446701\n",
      "[5000]\ttraining's binary_logloss: 0.0386017\tvalid_1's binary_logloss: 0.0395459\n",
      "[5500]\ttraining's binary_logloss: 0.0341535\tvalid_1's binary_logloss: 0.0351353\n",
      "[6000]\ttraining's binary_logloss: 0.0303621\tvalid_1's binary_logloss: 0.0313473\n",
      "[6500]\ttraining's binary_logloss: 0.0271237\tvalid_1's binary_logloss: 0.0281377\n",
      "[7000]\ttraining's binary_logloss: 0.0244662\tvalid_1's binary_logloss: 0.0255073\n",
      "[7500]\ttraining's binary_logloss: 0.0222511\tvalid_1's binary_logloss: 0.0233097\n",
      "[8000]\ttraining's binary_logloss: 0.0203873\tvalid_1's binary_logloss: 0.0214312\n",
      "[8500]\ttraining's binary_logloss: 0.0188048\tvalid_1's binary_logloss: 0.0198259\n",
      "[9000]\ttraining's binary_logloss: 0.0174311\tvalid_1's binary_logloss: 0.0184305\n",
      "[9500]\ttraining's binary_logloss: 0.0162481\tvalid_1's binary_logloss: 0.0172416\n",
      "[10000]\ttraining's binary_logloss: 0.0152279\tvalid_1's binary_logloss: 0.0162333\n",
      "[10500]\ttraining's binary_logloss: 0.0143194\tvalid_1's binary_logloss: 0.0153568\n",
      "[11000]\ttraining's binary_logloss: 0.0134855\tvalid_1's binary_logloss: 0.0145457\n",
      "[11500]\ttraining's binary_logloss: 0.012749\tvalid_1's binary_logloss: 0.0138323\n",
      "[12000]\ttraining's binary_logloss: 0.0120764\tvalid_1's binary_logloss: 0.0131913\n",
      "[12500]\ttraining's binary_logloss: 0.0114585\tvalid_1's binary_logloss: 0.0126276\n",
      "[13000]\ttraining's binary_logloss: 0.0108948\tvalid_1's binary_logloss: 0.0121095\n",
      "[13500]\ttraining's binary_logloss: 0.0103712\tvalid_1's binary_logloss: 0.0116313\n",
      "[14000]\ttraining's binary_logloss: 0.00988111\tvalid_1's binary_logloss: 0.0111826\n",
      "[14500]\ttraining's binary_logloss: 0.00940218\tvalid_1's binary_logloss: 0.0107406\n",
      "[15000]\ttraining's binary_logloss: 0.00896934\tvalid_1's binary_logloss: 0.0103437\n",
      "[15500]\ttraining's binary_logloss: 0.00857981\tvalid_1's binary_logloss: 0.00999228\n",
      "[16000]\ttraining's binary_logloss: 0.00822845\tvalid_1's binary_logloss: 0.00965723\n",
      "[16500]\ttraining's binary_logloss: 0.00790903\tvalid_1's binary_logloss: 0.00936932\n",
      "[17000]\ttraining's binary_logloss: 0.00760791\tvalid_1's binary_logloss: 0.00910041\n",
      "[17500]\ttraining's binary_logloss: 0.0073464\tvalid_1's binary_logloss: 0.00886566\n",
      "[18000]\ttraining's binary_logloss: 0.00709334\tvalid_1's binary_logloss: 0.00864174\n",
      "[18500]\ttraining's binary_logloss: 0.00686866\tvalid_1's binary_logloss: 0.00844164\n",
      "[19000]\ttraining's binary_logloss: 0.00666339\tvalid_1's binary_logloss: 0.00827012\n",
      "[19500]\ttraining's binary_logloss: 0.00646671\tvalid_1's binary_logloss: 0.00810143\n",
      "[20000]\ttraining's binary_logloss: 0.00629087\tvalid_1's binary_logloss: 0.00795704\n",
      "Did not meet early stopping. Best iteration is:\n",
      "[20000]\ttraining's binary_logloss: 0.00629087\tvalid_1's binary_logloss: 0.00795704\n",
      "fold n°2\n",
      "Training until validation scores don't improve for 200 rounds.\n",
      "[500]\ttraining's binary_logloss: 0.141289\tvalid_1's binary_logloss: 0.141298\n",
      "[1000]\ttraining's binary_logloss: 0.124181\tvalid_1's binary_logloss: 0.124782\n",
      "[1500]\ttraining's binary_logloss: 0.104551\tvalid_1's binary_logloss: 0.105802\n",
      "[2000]\ttraining's binary_logloss: 0.088532\tvalid_1's binary_logloss: 0.0902695\n",
      "[2500]\ttraining's binary_logloss: 0.0750955\tvalid_1's binary_logloss: 0.0770998\n",
      "[3000]\ttraining's binary_logloss: 0.0642237\tvalid_1's binary_logloss: 0.0663334\n",
      "[3500]\ttraining's binary_logloss: 0.0554488\tvalid_1's binary_logloss: 0.0575929\n",
      "[4000]\ttraining's binary_logloss: 0.0482142\tvalid_1's binary_logloss: 0.0503405\n",
      "[4500]\ttraining's binary_logloss: 0.042136\tvalid_1's binary_logloss: 0.0442161\n",
      "[5000]\ttraining's binary_logloss: 0.0371365\tvalid_1's binary_logloss: 0.0392144\n",
      "[5500]\ttraining's binary_logloss: 0.0330233\tvalid_1's binary_logloss: 0.0350725\n",
      "[6000]\ttraining's binary_logloss: 0.0294576\tvalid_1's binary_logloss: 0.0313568\n",
      "[6500]\ttraining's binary_logloss: 0.0263908\tvalid_1's binary_logloss: 0.0281746\n",
      "[7000]\ttraining's binary_logloss: 0.0238596\tvalid_1's binary_logloss: 0.0255698\n",
      "[7500]\ttraining's binary_logloss: 0.0217737\tvalid_1's binary_logloss: 0.0234105\n",
      "[8000]\ttraining's binary_logloss: 0.0199793\tvalid_1's binary_logloss: 0.0215165\n"
     ]
    },
    {
     "name": "stdout",
     "output_type": "stream",
     "text": [
      "[8500]\ttraining's binary_logloss: 0.0184538\tvalid_1's binary_logloss: 0.0198921\n",
      "[9000]\ttraining's binary_logloss: 0.017118\tvalid_1's binary_logloss: 0.0184735\n",
      "[9500]\ttraining's binary_logloss: 0.0159482\tvalid_1's binary_logloss: 0.0172261\n",
      "[10000]\ttraining's binary_logloss: 0.0149163\tvalid_1's binary_logloss: 0.0161498\n",
      "[10500]\ttraining's binary_logloss: 0.0140036\tvalid_1's binary_logloss: 0.0152354\n",
      "[11000]\ttraining's binary_logloss: 0.0131666\tvalid_1's binary_logloss: 0.0143876\n",
      "[11500]\ttraining's binary_logloss: 0.0124327\tvalid_1's binary_logloss: 0.013675\n",
      "[12000]\ttraining's binary_logloss: 0.0117703\tvalid_1's binary_logloss: 0.0130409\n",
      "[12500]\ttraining's binary_logloss: 0.0111434\tvalid_1's binary_logloss: 0.0124306\n",
      "[13000]\ttraining's binary_logloss: 0.0105773\tvalid_1's binary_logloss: 0.0119054\n",
      "[13500]\ttraining's binary_logloss: 0.0100659\tvalid_1's binary_logloss: 0.0114412\n",
      "[14000]\ttraining's binary_logloss: 0.00959588\tvalid_1's binary_logloss: 0.011009\n",
      "[14500]\ttraining's binary_logloss: 0.00915394\tvalid_1's binary_logloss: 0.0105985\n",
      "[15000]\ttraining's binary_logloss: 0.00876281\tvalid_1's binary_logloss: 0.010236\n",
      "[15500]\ttraining's binary_logloss: 0.00839508\tvalid_1's binary_logloss: 0.00989873\n",
      "[16000]\ttraining's binary_logloss: 0.00804763\tvalid_1's binary_logloss: 0.009585\n",
      "[16500]\ttraining's binary_logloss: 0.00774668\tvalid_1's binary_logloss: 0.0093259\n",
      "[17000]\ttraining's binary_logloss: 0.00745287\tvalid_1's binary_logloss: 0.00907686\n",
      "[17500]\ttraining's binary_logloss: 0.0071969\tvalid_1's binary_logloss: 0.00886683\n",
      "[18000]\ttraining's binary_logloss: 0.00695883\tvalid_1's binary_logloss: 0.00867215\n",
      "[18500]\ttraining's binary_logloss: 0.00672685\tvalid_1's binary_logloss: 0.00848068\n",
      "[19000]\ttraining's binary_logloss: 0.00652179\tvalid_1's binary_logloss: 0.00832092\n",
      "[19500]\ttraining's binary_logloss: 0.00632144\tvalid_1's binary_logloss: 0.00816586\n",
      "[20000]\ttraining's binary_logloss: 0.00614747\tvalid_1's binary_logloss: 0.00802694\n",
      "Did not meet early stopping. Best iteration is:\n",
      "[19997]\ttraining's binary_logloss: 0.00614737\tvalid_1's binary_logloss: 0.00802647\n",
      "fold n°3\n",
      "Training until validation scores don't improve for 200 rounds.\n",
      "[500]\ttraining's binary_logloss: 0.143029\tvalid_1's binary_logloss: 0.139268\n",
      "[1000]\ttraining's binary_logloss: 0.124621\tvalid_1's binary_logloss: 0.122762\n",
      "[1500]\ttraining's binary_logloss: 0.105361\tvalid_1's binary_logloss: 0.10373\n",
      "[2000]\ttraining's binary_logloss: 0.0888685\tvalid_1's binary_logloss: 0.0874857\n",
      "[2500]\ttraining's binary_logloss: 0.0747624\tvalid_1's binary_logloss: 0.074168\n",
      "[3000]\ttraining's binary_logloss: 0.064038\tvalid_1's binary_logloss: 0.0639324\n",
      "[3500]\ttraining's binary_logloss: 0.0550932\tvalid_1's binary_logloss: 0.055452\n",
      "[4000]\ttraining's binary_logloss: 0.0476011\tvalid_1's binary_logloss: 0.0483074\n",
      "[4500]\ttraining's binary_logloss: 0.0412178\tvalid_1's binary_logloss: 0.0420693\n",
      "[5000]\ttraining's binary_logloss: 0.0359435\tvalid_1's binary_logloss: 0.0369634\n",
      "[5500]\ttraining's binary_logloss: 0.0316274\tvalid_1's binary_logloss: 0.0328637\n",
      "[6000]\ttraining's binary_logloss: 0.0278201\tvalid_1's binary_logloss: 0.029284\n",
      "[6500]\ttraining's binary_logloss: 0.0245952\tvalid_1's binary_logloss: 0.0262727\n",
      "[7000]\ttraining's binary_logloss: 0.0219305\tvalid_1's binary_logloss: 0.0238077\n",
      "[7500]\ttraining's binary_logloss: 0.0197035\tvalid_1's binary_logloss: 0.0217876\n",
      "[8000]\ttraining's binary_logloss: 0.0178276\tvalid_1's binary_logloss: 0.0200965\n",
      "[8500]\ttraining's binary_logloss: 0.0162322\tvalid_1's binary_logloss: 0.0186568\n",
      "[9000]\ttraining's binary_logloss: 0.0148829\tvalid_1's binary_logloss: 0.0174771\n",
      "[9500]\ttraining's binary_logloss: 0.0137163\tvalid_1's binary_logloss: 0.0164793\n",
      "[10000]\ttraining's binary_logloss: 0.0127329\tvalid_1's binary_logloss: 0.0156649\n",
      "[10500]\ttraining's binary_logloss: 0.0118676\tvalid_1's binary_logloss: 0.0149584\n",
      "[11000]\ttraining's binary_logloss: 0.0111164\tvalid_1's binary_logloss: 0.0143529\n",
      "[11500]\ttraining's binary_logloss: 0.0104491\tvalid_1's binary_logloss: 0.013845\n",
      "[12000]\ttraining's binary_logloss: 0.00985594\tvalid_1's binary_logloss: 0.0133848\n",
      "[12500]\ttraining's binary_logloss: 0.00930197\tvalid_1's binary_logloss: 0.0130122\n",
      "[13000]\ttraining's binary_logloss: 0.00880859\tvalid_1's binary_logloss: 0.0126663\n",
      "[13500]\ttraining's binary_logloss: 0.00835862\tvalid_1's binary_logloss: 0.0123708\n",
      "[14000]\ttraining's binary_logloss: 0.00796601\tvalid_1's binary_logloss: 0.012114\n",
      "[14500]\ttraining's binary_logloss: 0.00760452\tvalid_1's binary_logloss: 0.0118797\n",
      "[15000]\ttraining's binary_logloss: 0.00728171\tvalid_1's binary_logloss: 0.0116836\n",
      "[15500]\ttraining's binary_logloss: 0.00698607\tvalid_1's binary_logloss: 0.0114951\n",
      "[16000]\ttraining's binary_logloss: 0.00671895\tvalid_1's binary_logloss: 0.011333\n",
      "[16500]\ttraining's binary_logloss: 0.00648382\tvalid_1's binary_logloss: 0.011196\n",
      "[17000]\ttraining's binary_logloss: 0.00626093\tvalid_1's binary_logloss: 0.0110613\n",
      "[17500]\ttraining's binary_logloss: 0.00606012\tvalid_1's binary_logloss: 0.0109646\n",
      "[18000]\ttraining's binary_logloss: 0.00587044\tvalid_1's binary_logloss: 0.0108564\n",
      "[18500]\ttraining's binary_logloss: 0.00567938\tvalid_1's binary_logloss: 0.0107445\n",
      "[19000]\ttraining's binary_logloss: 0.00551984\tvalid_1's binary_logloss: 0.0106626\n",
      "[19500]\ttraining's binary_logloss: 0.00538326\tvalid_1's binary_logloss: 0.0105892\n",
      "[20000]\ttraining's binary_logloss: 0.00525072\tvalid_1's binary_logloss: 0.0105191\n",
      "Did not meet early stopping. Best iteration is:\n",
      "[20000]\ttraining's binary_logloss: 0.00525072\tvalid_1's binary_logloss: 0.0105191\n",
      "fold n°4\n",
      "Training until validation scores don't improve for 200 rounds.\n",
      "[500]\ttraining's binary_logloss: 0.140829\tvalid_1's binary_logloss: 0.14572\n",
      "[1000]\ttraining's binary_logloss: 0.123796\tvalid_1's binary_logloss: 0.128327\n",
      "[1500]\ttraining's binary_logloss: 0.10642\tvalid_1's binary_logloss: 0.110934\n",
      "[2000]\ttraining's binary_logloss: 0.0900089\tvalid_1's binary_logloss: 0.0942062\n",
      "[2500]\ttraining's binary_logloss: 0.0764883\tvalid_1's binary_logloss: 0.0802741\n",
      "[3000]\ttraining's binary_logloss: 0.0655699\tvalid_1's binary_logloss: 0.06892\n",
      "[3500]\ttraining's binary_logloss: 0.0563828\tvalid_1's binary_logloss: 0.0593883\n",
      "[4000]\ttraining's binary_logloss: 0.0488838\tvalid_1's binary_logloss: 0.0513486\n",
      "[4500]\ttraining's binary_logloss: 0.0425052\tvalid_1's binary_logloss: 0.0444279\n",
      "[5000]\ttraining's binary_logloss: 0.0371997\tvalid_1's binary_logloss: 0.0386721\n",
      "[5500]\ttraining's binary_logloss: 0.0328242\tvalid_1's binary_logloss: 0.0339187\n",
      "[6000]\ttraining's binary_logloss: 0.0291499\tvalid_1's binary_logloss: 0.0299647\n",
      "[6500]\ttraining's binary_logloss: 0.0260448\tvalid_1's binary_logloss: 0.0266304\n",
      "[7000]\ttraining's binary_logloss: 0.0234415\tvalid_1's binary_logloss: 0.0238434\n",
      "[7500]\ttraining's binary_logloss: 0.0212873\tvalid_1's binary_logloss: 0.0215713\n",
      "[8000]\ttraining's binary_logloss: 0.0194503\tvalid_1's binary_logloss: 0.0197237\n",
      "[8500]\ttraining's binary_logloss: 0.0178707\tvalid_1's binary_logloss: 0.0181407\n",
      "[9000]\ttraining's binary_logloss: 0.0164894\tvalid_1's binary_logloss: 0.0167755\n",
      "[9500]\ttraining's binary_logloss: 0.015281\tvalid_1's binary_logloss: 0.015599\n",
      "[10000]\ttraining's binary_logloss: 0.0142162\tvalid_1's binary_logloss: 0.0145826\n",
      "[10500]\ttraining's binary_logloss: 0.0132476\tvalid_1's binary_logloss: 0.0136811\n",
      "[11000]\ttraining's binary_logloss: 0.0123643\tvalid_1's binary_logloss: 0.0128802\n",
      "[11500]\ttraining's binary_logloss: 0.011575\tvalid_1's binary_logloss: 0.0121771\n",
      "[12000]\ttraining's binary_logloss: 0.01084\tvalid_1's binary_logloss: 0.011538\n",
      "[12500]\ttraining's binary_logloss: 0.0102144\tvalid_1's binary_logloss: 0.0109781\n",
      "[13000]\ttraining's binary_logloss: 0.00962127\tvalid_1's binary_logloss: 0.01046\n",
      "[13500]\ttraining's binary_logloss: 0.00907188\tvalid_1's binary_logloss: 0.00998725\n",
      "[14000]\ttraining's binary_logloss: 0.00857379\tvalid_1's binary_logloss: 0.00955909\n",
      "[14500]\ttraining's binary_logloss: 0.00811013\tvalid_1's binary_logloss: 0.00917231\n",
      "[15000]\ttraining's binary_logloss: 0.00768365\tvalid_1's binary_logloss: 0.00882458\n",
      "[15500]\ttraining's binary_logloss: 0.00729972\tvalid_1's binary_logloss: 0.00851672\n",
      "[16000]\ttraining's binary_logloss: 0.00695427\tvalid_1's binary_logloss: 0.00824862\n",
      "[16500]\ttraining's binary_logloss: 0.00663165\tvalid_1's binary_logloss: 0.00801447\n"
     ]
    },
    {
     "name": "stdout",
     "output_type": "stream",
     "text": [
      "[17000]\ttraining's binary_logloss: 0.00633417\tvalid_1's binary_logloss: 0.00780602\n",
      "[17500]\ttraining's binary_logloss: 0.00609264\tvalid_1's binary_logloss: 0.00763023\n",
      "[18000]\ttraining's binary_logloss: 0.00585484\tvalid_1's binary_logloss: 0.00746659\n",
      "[18500]\ttraining's binary_logloss: 0.00563447\tvalid_1's binary_logloss: 0.00732441\n",
      "[19000]\ttraining's binary_logloss: 0.0054299\tvalid_1's binary_logloss: 0.0071956\n",
      "[19500]\ttraining's binary_logloss: 0.00524596\tvalid_1's binary_logloss: 0.00707998\n",
      "[20000]\ttraining's binary_logloss: 0.00507902\tvalid_1's binary_logloss: 0.00697722\n",
      "Did not meet early stopping. Best iteration is:\n",
      "[20000]\ttraining's binary_logloss: 0.00507902\tvalid_1's binary_logloss: 0.00697722\n"
     ]
    }
   ],
   "source": [
    "folds = KFold(n_splits=5, shuffle=True, random_state=15)\n",
    "oof = np.zeros(len(X_train))\n",
    "predictions = np.zeros(len(X_test))\n",
    "feature_importance_df = pd.DataFrame()\n",
    "evals_result = {}  #记录训练结果所用\n",
    "\n",
    "for fold_, (trn_idx, val_idx) in enumerate(folds.split(X_train.values, y_train.values)):\n",
    "    print(\"fold n°{}\".format(fold_))\n",
    "    trn_data = lgb.Dataset(X_train.iloc[trn_idx][features],\n",
    "                           label=y_train.iloc[trn_idx])\n",
    "    val_data = lgb.Dataset(X_train.iloc[val_idx][features],\n",
    "                           label=y_train.iloc[val_idx])\n",
    "\n",
    "    num_round = 20000\n",
    "    clf = lgb.train(param,\n",
    "                    trn_data,\n",
    "                    num_round,\n",
    "                    valid_sets = [trn_data, val_data],\n",
    "                    evals_result=evals_result,   #非常重要的参数,一定要明确设置\n",
    "                    verbose_eval=500,\n",
    "                    early_stopping_rounds=200\n",
    "    )\n",
    "    \n",
    "    oof[val_idx] = clf.predict(X_train.iloc[val_idx][features], num_iteration=clf.best_iteration)\n",
    "    \n",
    "    fold_importance_df = pd.DataFrame()\n",
    "    fold_importance_df[\"feature\"] = features\n",
    "    fold_importance_df[\"importance\"] = clf.feature_importance()\n",
    "    fold_importance_df[\"fold\"] = fold_ + 1\n",
    "    feature_importance_df = pd.concat([feature_importance_df, fold_importance_df], axis=0)\n",
    "    \n",
    "    predictions += clf.predict(X_test[features], num_iteration=clf.best_iteration) / folds.n_splits"
   ]
  },
  {
   "cell_type": "code",
   "execution_count": 44,
   "metadata": {
    "ExecuteTime": {
     "end_time": "2019-08-26T09:12:26.105692Z",
     "start_time": "2019-08-26T09:12:25.526123Z"
    }
   },
   "outputs": [
    {
     "data": {
      "text/plain": [
       "<matplotlib.axes._subplots.AxesSubplot at 0x17644ccd7f0>"
      ]
     },
     "execution_count": 44,
     "metadata": {},
     "output_type": "execute_result"
    },
    {
     "data": {
      "image/png": "[encoded data removed]",
      "text/plain": [
       "<Figure size 432x288 with 1 Axes>"
      ]
     },
     "metadata": {
      "needs_background": "light"
     },
     "output_type": "display_data"
    }
   ],
   "source": [
    "lgb.plot_metric(evals_result, metric='binary_logloss')#metric的值与之前的params里面的值对应"
   ]
  },
  {
   "cell_type": "code",
   "execution_count": 45,
   "metadata": {
    "ExecuteTime": {
     "end_time": "2019-08-26T09:12:26.393750Z",
     "start_time": "2019-08-26T09:12:26.108695Z"
    }
   },
   "outputs": [
    {
     "ename": "KeyError",
     "evalue": "'No given metric in eval results.'",
     "output_type": "error",
     "traceback": [
      "\u001b[1;31m---------------------------------------------------------------------------\u001b[0m",
      "\u001b[1;31mKeyError\u001b[0m                                  Traceback (most recent call last)",
      "\u001b[1;32m<ipython-input-45-3ff85243a2df>\u001b[0m in \u001b[0;36m<module>\u001b[1;34m\u001b[0m\n\u001b[1;32m----> 1\u001b[1;33m \u001b[0mlgb\u001b[0m\u001b[1;33m.\u001b[0m\u001b[0mplot_metric\u001b[0m\u001b[1;33m(\u001b[0m\u001b[0mevals_result\u001b[0m\u001b[1;33m,\u001b[0m \u001b[0mmetric\u001b[0m\u001b[1;33m=\u001b[0m\u001b[1;34m'auc'\u001b[0m\u001b[1;33m)\u001b[0m\u001b[1;31m#metric的值与之前的params里面的值对应\u001b[0m\u001b[1;33m\u001b[0m\u001b[1;33m\u001b[0m\u001b[0m\n\u001b[0m",
      "\u001b[1;32m~\\AppData\\Local\\Continuum\\anaconda3\\lib\\site-packages\\lightgbm\\plotting.py\u001b[0m in \u001b[0;36mplot_metric\u001b[1;34m(booster, metric, dataset_names, ax, xlim, ylim, title, xlabel, ylabel, figsize, grid)\u001b[0m\n\u001b[0;32m    226\u001b[0m     \u001b[1;32melse\u001b[0m\u001b[1;33m:\u001b[0m\u001b[1;33m\u001b[0m\u001b[1;33m\u001b[0m\u001b[0m\n\u001b[0;32m    227\u001b[0m         \u001b[1;32mif\u001b[0m \u001b[0mmetric\u001b[0m \u001b[1;32mnot\u001b[0m \u001b[1;32min\u001b[0m \u001b[0mmetrics_for_one\u001b[0m\u001b[1;33m:\u001b[0m\u001b[1;33m\u001b[0m\u001b[1;33m\u001b[0m\u001b[0m\n\u001b[1;32m--> 228\u001b[1;33m             \u001b[1;32mraise\u001b[0m \u001b[0mKeyError\u001b[0m\u001b[1;33m(\u001b[0m\u001b[1;34m'No given metric in eval results.'\u001b[0m\u001b[1;33m)\u001b[0m\u001b[1;33m\u001b[0m\u001b[1;33m\u001b[0m\u001b[0m\n\u001b[0m\u001b[0;32m    229\u001b[0m         \u001b[0mresults\u001b[0m \u001b[1;33m=\u001b[0m \u001b[0mmetrics_for_one\u001b[0m\u001b[1;33m[\u001b[0m\u001b[0mmetric\u001b[0m\u001b[1;33m]\u001b[0m\u001b[1;33m\u001b[0m\u001b[1;33m\u001b[0m\u001b[0m\n\u001b[0;32m    230\u001b[0m     \u001b[0mnum_iteration\u001b[0m\u001b[1;33m,\u001b[0m \u001b[0mmax_result\u001b[0m\u001b[1;33m,\u001b[0m \u001b[0mmin_result\u001b[0m \u001b[1;33m=\u001b[0m \u001b[0mlen\u001b[0m\u001b[1;33m(\u001b[0m\u001b[0mresults\u001b[0m\u001b[1;33m)\u001b[0m\u001b[1;33m,\u001b[0m \u001b[0mmax\u001b[0m\u001b[1;33m(\u001b[0m\u001b[0mresults\u001b[0m\u001b[1;33m)\u001b[0m\u001b[1;33m,\u001b[0m \u001b[0mmin\u001b[0m\u001b[1;33m(\u001b[0m\u001b[0mresults\u001b[0m\u001b[1;33m)\u001b[0m\u001b[1;33m\u001b[0m\u001b[1;33m\u001b[0m\u001b[0m\n",
      "\u001b[1;31mKeyError\u001b[0m: 'No given metric in eval results.'"
     ]
    },
    {
     "data": {
      "image/png": "[encoded data removed]",
      "text/plain": [
       "<Figure size 432x288 with 1 Axes>"
      ]
     },
     "metadata": {
      "needs_background": "light"
     },
     "output_type": "display_data"
    }
   ],
   "source": [
    "lgb.plot_metric(evals_result, metric='auc')#metric的值与之前的params里面的值对应"
   ]
  },
  {
   "cell_type": "code",
   "execution_count": null,
   "metadata": {
    "ExecuteTime": {
     "end_time": "2019-08-26T09:12:26.397248Z",
     "start_time": "2019-08-26T08:53:36.851Z"
    }
   },
   "outputs": [],
   "source": [
    "# ROC\n",
    "from sklearn.metrics import roc_curve, auc\n",
    "import matplotlib.pyplot as plt\n",
    "\n",
    "def draw_ROC_curve(y_test,y_predict,savepath=None):\n",
    "    '''\n",
    "    画ROC曲线\n",
    "    '''\n",
    "    false_positive_rate,true_positive_rate,thresholds=roc_curve(y_test, y_predict)\n",
    "    print(thresholds)\n",
    "    roc_auc=auc(false_positive_rate, true_positive_rate)\n",
    "    plt.title('ROC')\n",
    "    plt.plot(false_positive_rate, true_positive_rate,'b',label='AUC = %0.2f'% roc_auc)\n",
    "    plt.legend(loc='lower right')\n",
    "    plt.plot([0,1],[0,1],'r--')\n",
    "    plt.ylabel('TPR')\n",
    "    plt.xlabel('FPR')\n",
    "    if savepath:\n",
    "        plt.savefig(savepath)\n",
    "    plt.close(0)\n",
    "\n",
    "draw_ROC_curve(y_train, oof)"
   ]
  },
  {
   "cell_type": "code",
   "execution_count": null,
   "metadata": {
    "ExecuteTime": {
     "end_time": "2019-08-26T09:12:26.399748Z",
     "start_time": "2019-08-26T08:53:36.853Z"
    },
    "scrolled": true
   },
   "outputs": [],
   "source": [
    "draw_ROC_curve(y_test, predictions)"
   ]
  },
  {
   "cell_type": "code",
   "execution_count": null,
   "metadata": {
    "ExecuteTime": {
     "end_time": "2019-08-26T09:12:26.401762Z",
     "start_time": "2019-08-26T08:53:36.855Z"
    }
   },
   "outputs": [],
   "source": [
    "new_test = pd.concat([test[['companyName', 'DOW']].reset_index(), pd.Series(predictions, name='pred')], axis=1)\n",
    "new_test_company = ['Primera Air [no longer operating]', 'LAN Airlines (now LATAM Airlines)', 'WOW air [no longer operating]']\n",
    "new_test = new_test[new_test['companyName'].isin(new_test_company)]\n",
    "\n",
    "display(new_test.sort_values(['companyName', 'pred'], ascending=False))\n",
    "new_test.sort_values(['companyName', 'pred'], ascending=False).to_csv('./score_rank.csv')\n",
    "# display(new_test.groupby('companyName')['pred'].agg(['mean', 'min', 'max']))"
   ]
  },
  {
   "cell_type": "code",
   "execution_count": null,
   "metadata": {
    "ExecuteTime": {
     "end_time": "2019-08-26T09:12:26.403759Z",
     "start_time": "2019-08-26T08:53:36.860Z"
    }
   },
   "outputs": [],
   "source": [
    "new_test = pd.concat([test['companyName'].reset_index(), pd.Series(predictions, name='pred')], axis=1)\n",
    "\n",
    "display(new_test.groupby('companyName')['pred'].agg(['mean', 'min', 'max']).sort_values('mean', ascending=False))"
   ]
  },
  {
   "cell_type": "code",
   "execution_count": null,
   "metadata": {
    "ExecuteTime": {
     "end_time": "2019-08-26T09:12:26.406763Z",
     "start_time": "2019-08-26T08:53:36.878Z"
    }
   },
   "outputs": [],
   "source": [
    "new_train = pd.concat([train[['companyName', 'DOW']].reset_index(), pd.Series(oof, name='pred')], axis=1)\n",
    "# new_train_company = ['Monarch [no longer operating]']\n",
    "# new_train = new_train[new_train['companyName'].isin(new_train_company)]\n",
    "\n",
    "display(new_train.sort_values('pred', ascending=False))\n",
    "new_train.sort_values('pred', ascending=False).to_csv('./train_score_rank.csv')\n",
    "# display(new_train.groupby('companyName')['pred'].agg(['mean', 'min', 'max']).sort_values('mean', ascending=False))"
   ]
  },
  {
   "cell_type": "code",
   "execution_count": null,
   "metadata": {},
   "outputs": [],
   "source": []
  },
  {
   "cell_type": "code",
   "execution_count": null,
   "metadata": {},
   "outputs": [],
   "source": []
  }
 ],
 "metadata": {
  "kernelspec": {
   "display_name": "Python 3",
   "language": "python",
   "name": "python3"
  },
  "language_info": {
   "codemirror_mode": {
    "name": "ipython",
    "version": 3
   },
   "file_extension": ".py",
   "mimetype": "text/x-python",
   "name": "python",
   "nbconvert_exporter": "python",
   "pygments_lexer": "ipython3",
   "version": "3.7.3"
  },
  "toc": {
   "base_numbering": 1,
   "nav_menu": {},
   "number_sections": true,
   "sideBar": true,
   "skip_h1_title": false,
   "title_cell": "Table of Contents",
   "title_sidebar": "Contents",
   "toc_cell": false,
   "toc_position": {},
   "toc_section_display": true,
   "toc_window_display": false
  }
 },
 "nbformat": 4,
 "nbformat_minor": 2
}
